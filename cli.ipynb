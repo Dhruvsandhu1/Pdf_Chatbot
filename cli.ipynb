{
  "nbformat": 4,
  "nbformat_minor": 0,
  "metadata": {
    "colab": {
      "provenance": []
    },
    "kernelspec": {
      "name": "python3",
      "display_name": "Python 3"
    },
    "language_info": {
      "name": "python"
    }
  },
  "cells": [
    {
      "cell_type": "code",
      "source": [
        "import argparse\n",
        "from pdf_chatbot import (\n",
        "    add_text_to_collection,\n",
        "    get_answer,\n",
        "    verify_pdf_path,\n",
        "    clear_coll\n",
        "  )\n",
        "# path = \"choose a valid path here\""
      ],
      "metadata": {
        "id": "Q4w79OtIqHDE"
      },
      "execution_count": null,
      "outputs": []
    },
    {
      "cell_type": "code",
      "source": [
        "def main():\n",
        "    parser = argparse.ArgumentParser(description=\"PDF Processing CLI Tool\")\n",
        "    parser.add_argument(\"-f\", \"--file\", help=\"Path to the input PDF file\")\n",
        "    parser.add_argument(\"-v\", \"--value\",default=200, type=int, help=\"Optional integer value for no. words in a single chunk\")\n",
        "    parser.add_argument(\"-q\", \"--question\", type = str ,help=\"Ask a question\")\n",
        "    parser.add_argument(\"-c\", \"--clear\", type = bool, help = \"Clear existing collection data\")\n",
        "    parser.add_argument('-n', \"--number\", type = int, default=1, help = \"Number of results to be fetched from collection\")\n",
        "\n",
        "    args = parser.parse_args()\n",
        "\n",
        "    if args.file is not None:\n",
        "        verify_pdf_path(args.file)\n",
        "        confirmation = add_text_to_collection(file = args.file, word = args.value)\n",
        "        print(confirmation)\n",
        "\n",
        "    if args.question is not None:\n",
        "        if args.number:\n",
        "            n = args.number\n",
        "        else:\n",
        "            n = 1\n",
        "        answer = get_answer(args.question, n = n)\n",
        "        print(\"Answer:\", answer)\n",
        "\n",
        "    if args.clear:\n",
        "        clear_coll()\n",
        "        return \"Current collection cleared successfully\""
      ],
      "metadata": {
        "id": "gMtw43zKqIGO"
      },
      "execution_count": null,
      "outputs": []
    },
    {
      "cell_type": "code",
      "source": [
        "if __name__ == \"__main__\":\n",
        "    main()"
      ],
      "metadata": {
        "id": "qWqaI8CDqMTN"
      },
      "execution_count": null,
      "outputs": []
    }
  ]
}